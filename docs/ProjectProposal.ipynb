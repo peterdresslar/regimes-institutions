{
 "cells": [
  {
   "cell_type": "markdown",
   "metadata": {},
   "source": [
    "Project Proposal, Peter Dresslar\n",
    "\n",
    "For my final project, I propose to explore the conditions of Transylvanian Jewry during the period from approximately 1750 to 1945 through the lens of two modalities. \n",
    "\n",
    "The history of Jews in Transylvania is inextricably bound into the complex overall political history of the region, which changed sovereignty and regime many times in the latter half of the millennium.[1] Situated between Hungary, Austria, Moldavia, and later Romania, the sweeping changes to the region were usually only tangentially focused on the Jewish population, but the indirect results of the transitions were variously harmonious or cataclysmic for their communities. While Jews inhabited the region prior to the Eighteenth Century, they entered the region in greater number with the reforms of Joseph II of the Austrian empire around 1780.[2] Later reforms came with the Austro-Hungarian Compromise of 1867, which provided the communities sufficient freedom to establish anchor institutions such as synagogues and schools.[3]\n",
    "\n",
    "By the turn of the Twentieth Century, the Jewish communities of Transylvania were an established component of the region, lending overall character to towns such as Alba Iulia and even Cluj. However, friction between communities still existed, and the fall of Europe into turmoil during the first years of the 1900s exacerbated this. Transylvania changed hands to Romania after the first World War, and interwar tensions never truly left the region.[4] Violent attacks on Jews became more frequent, and through attrition due to rising Jewish emigration or outright destruction, many of the anchor institutions that defined the community ceased to function.[5] During World War II, Hungary was ceded the northern part of Transylvania by Romania, leading to deportation of over 100,000 remaining Jews from the region to Auschwitz, and the effective end of the brief but vibrant Jewish community of Transylvania.[6]\n",
    "\n",
    "My first modality will be a visual presentation of the maps of the region, in which I will attempt to represent the overall dynamics of the Jewish communityʻs history in Transylvania using both general population representations as well as the movement dynamics from one known family line. Through this modality I endeavor to make the dynamics of the time clear to non-technical reviewers, with the aim to temper any totalization of the populations involved by highlighting individuals.\n",
    "\n",
    "My second modality will be a small agent-based model, in which we explore the dynamics of shifting domain-wide rules, and even shifting domain boundaries, on a representative population of cultural actors. Through this modality I endeavor to explore how shifts to underlying social rulesets can impact the formation of community and especially the anchor institutions that define community.\n",
    "\n",
    "–\n",
    "\n",
    "References\n",
    "[1] Hitchins, Keith. (2014). A Concise History of Romania. Cambridge University Press.\n",
    "[2] Patai, Raphael. (1996). The Jews of Hungary: History, Culture, Psychology. Wayne State University Press, pp. 184-190.\n",
    "[3] Gyémánt, Ladislau. (2004). Jews of Transylvania in the Age of Emancipation. The Goldstein-Goren Diaspora Research Center, Tel Aviv University.\n",
    "[4] Braham, Randolph L. (2018). \"The Jews of Transylvania: Opportunistic Historical Accounts.\" Hungarian Studies Review, Vol. 45, No. 1-2, pp. 15-38.\n",
    "[5] Mendelsohn, Ezra. (1983). The Jews of East Central Europe Between the World Wars. Indiana University Press, pp. 171-188.\n",
    "[6] Ioanid, Radu. (2000). The Holocaust in Romania: The Destruction of Jews and Gypsies Under the Antonescu Regime, 1940-1944. Ivan R. Dee Publisher, Chapter 7.\n",
    "\n",
    "\n"
   ]
  }
 ],
 "metadata": {
  "language_info": {
   "name": "python"
  }
 },
 "nbformat": 4,
 "nbformat_minor": 2
}
